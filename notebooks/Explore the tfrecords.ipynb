{
 "cells": [
  {
   "cell_type": "code",
   "execution_count": 1,
   "metadata": {},
   "outputs": [],
   "source": [
    "import tensorflow as tf\n",
    "\n",
    "tf.enable_eager_execution()"
   ]
  },
  {
   "cell_type": "markdown",
   "metadata": {},
   "source": [
    "# Exploring Meta-dataset's TFRecords"
   ]
  },
  {
   "cell_type": "code",
   "execution_count": 17,
   "metadata": {},
   "outputs": [],
   "source": [
    "RECORDS_DIR = \"/Users/gomerudo/workspace/thesis_results/dtd\""
   ]
  },
  {
   "cell_type": "code",
   "execution_count": 18,
   "metadata": {},
   "outputs": [],
   "source": [
    "# Import to list files in directories\n",
    "import glob\n",
    "\n",
    "tfrecords_list = sorted(glob.glob(\"{dir}/*.tfrecords\".format(dir=RECORDS_DIR)))"
   ]
  },
  {
   "cell_type": "code",
   "execution_count": 34,
   "metadata": {},
   "outputs": [
    {
     "name": "stdout",
     "output_type": "stream",
     "text": [
      "tfrecord_data | Type: <class 'tensorflow.python.data.ops.readers.TFRecordDatasetV1'> | Value: <TFRecordDatasetV1 shapes: (), types: tf.string>\n",
      "Type of 'tfrecord_data' is: <class 'tensorflow.python.data.ops.readers.TFRecordDatasetV1'>\n",
      "  o_classes | Type: <class 'type'> | Value: <class 'tensorflow.python.framework.ops.Tensor'>\n",
      "  output_shapes | Type: <class 'tensorflow.python.framework.tensor_shape.TensorShapeV1'> | Value: ()\n",
      "  o_types | Type: <class 'tensorflow.python.framework.dtypes.DType'> | Value: <dtype: 'string'>\n"
     ]
    }
   ],
   "source": [
    "tfrecord_data = tf.data.TFRecordDataset(tfrecords_list)\n",
    "o_classes = tfrecord_data.output_classes\n",
    "o_shapes = tfrecord_data.output_shapes\n",
    "o_types = tfrecord_data.output_types\n",
    "\n",
    "print(\n",
    "    \"tfrecord_data | Type: {t} | Value: {v}\".format(\n",
    "        t=type(tfrecord_data), v=tfrecord_data\n",
    "    )\n",
    ")\n",
    "print(\"Type of 'tfrecord_data' is: {t}\".format(t=type(tfrecord_data)))\n",
    "\n",
    "\n",
    "print(\n",
    "    \"  o_classes | Type: {t} | Value: {v}\".format(\n",
    "        t=type(o_classes), v=str(o_classes)\n",
    "    )\n",
    ")\n",
    "\n",
    "print(\n",
    "    \"  output_shapes | Type: {t} | Value: {v}\".format(\n",
    "        t=type(o_shapes), v=str(o_shapes)\n",
    "    )\n",
    ")\n",
    "\n",
    "print(\n",
    "    \"  o_types | Type: {t} | Value: {v}\".format(\n",
    "        t=type(o_types), v=str(o_types)\n",
    "    )\n",
    ")\n",
    "\n",
    "\n"
   ]
  },
  {
   "cell_type": "code",
   "execution_count": 83,
   "metadata": {},
   "outputs": [],
   "source": [
    "# All variables\n",
    "count_elements = 0\n",
    "# all_classes = set()\n",
    "summary = dict()\n",
    "# Iterate over all files\n",
    "for tf_record in tfrecords_list:\n",
    "#     print(\"Analyzing\", tf_record)\n",
    "    record_iterator = tf.python_io.tf_record_iterator(path=tf_record)\n",
    "    \n",
    "    for string_record in record_iterator:\n",
    "        count_elements += 1\n",
    "        example = tf.train.Example()\n",
    "        example.ParseFromString(string_record)\n",
    "        ele_as_dict = dict(example.features.feature)\n",
    "        label = example.features.feature.get(\"label\").int64_list.value[0]\n",
    "        try:\n",
    "            summary[str(label)] += 1\n",
    "        except Exception as ex:\n",
    "            summary[str(label)] = 1\n"
   ]
  },
  {
   "cell_type": "code",
   "execution_count": 84,
   "metadata": {},
   "outputs": [
    {
     "data": {
      "text/plain": [
       "{'0': 120,\n",
       " '1': 120,\n",
       " '10': 120,\n",
       " '11': 120,\n",
       " '12': 120,\n",
       " '13': 120,\n",
       " '14': 120,\n",
       " '15': 120,\n",
       " '16': 120,\n",
       " '17': 120,\n",
       " '18': 120,\n",
       " '19': 120,\n",
       " '2': 120,\n",
       " '20': 120,\n",
       " '21': 120,\n",
       " '22': 120,\n",
       " '23': 120,\n",
       " '24': 120,\n",
       " '25': 120,\n",
       " '26': 120,\n",
       " '27': 120,\n",
       " '28': 120,\n",
       " '29': 120,\n",
       " '3': 120,\n",
       " '30': 120,\n",
       " '31': 120,\n",
       " '32': 120,\n",
       " '33': 120,\n",
       " '34': 120,\n",
       " '35': 120,\n",
       " '36': 120,\n",
       " '37': 120,\n",
       " '38': 120,\n",
       " '39': 120,\n",
       " '4': 120,\n",
       " '40': 120,\n",
       " '41': 120,\n",
       " '42': 120,\n",
       " '43': 120,\n",
       " '44': 120,\n",
       " '45': 120,\n",
       " '46': 120,\n",
       " '5': 120,\n",
       " '6': 120,\n",
       " '7': 120,\n",
       " '8': 120,\n",
       " '9': 120}"
      ]
     },
     "execution_count": 84,
     "metadata": {},
     "output_type": "execute_result"
    }
   ],
   "source": [
    "summary"
   ]
  },
  {
   "cell_type": "code",
   "execution_count": null,
   "metadata": {},
   "outputs": [],
   "source": []
  }
 ],
 "metadata": {
  "kernelspec": {
   "display_name": "Python 3",
   "language": "python",
   "name": "python3"
  },
  "language_info": {
   "codemirror_mode": {
    "name": "ipython",
    "version": 3
   },
   "file_extension": ".py",
   "mimetype": "text/x-python",
   "name": "python",
   "nbconvert_exporter": "python",
   "pygments_lexer": "ipython3",
   "version": "3.7.2"
  },
  "toc": {
   "base_numbering": 1,
   "nav_menu": {},
   "number_sections": false,
   "sideBar": false,
   "skip_h1_title": false,
   "title_cell": "Table of Contents",
   "title_sidebar": "Contents",
   "toc_cell": false,
   "toc_position": {},
   "toc_section_display": false,
   "toc_window_display": false
  }
 },
 "nbformat": 4,
 "nbformat_minor": 2
}
