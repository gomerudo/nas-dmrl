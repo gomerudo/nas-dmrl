{
 "cells": [
  {
   "cell_type": "markdown",
   "metadata": {},
   "source": [
    "# Exploring results for NAS with DMRL [V4]"
   ]
  },
  {
   "cell_type": "markdown",
   "metadata": {},
   "source": [
    "## Global imports and variables"
   ]
  },
  {
   "cell_type": "code",
   "execution_count": 1,
   "metadata": {
    "ExecuteTime": {
     "end_time": "2019-09-17T16:59:11.066757Z",
     "start_time": "2019-09-17T16:59:10.812444Z"
    }
   },
   "outputs": [],
   "source": [
    "# Import for interactive notebook (see:\n",
    "# https://ipywidgets.readthedocs.io/en/stable/examples/Using%20Interact.html)\n",
    "from __future__ import print_function\n",
    "from ipywidgets import interact, interactive, fixed, interact_manual\n",
    "import ipywidgets as widgets\n",
    "from IPython.display import display\n",
    "from ipywidgets import Layout\n",
    "\n",
    "\n",
    "# Import to list files in directories\n",
    "import glob\n",
    "\n",
    "# Import for regular expressions\n",
    "import re\n",
    "\n",
    "# Imports for path operations\n",
    "import os\n",
    "import os.path\n",
    "\n",
    "# For date operations\n",
    "from datetime import datetime\n",
    "\n",
    "import pandas as pd\n",
    "pd.set_option('max_colwidth', -1)\n",
    "import matplotlib.pyplot as plt\n",
    "\n",
    "import numpy as np\n",
    "import configparser"
   ]
  },
  {
   "cell_type": "markdown",
   "metadata": {},
   "source": [
    "## Selecting the desired results"
   ]
  },
  {
   "cell_type": "code",
   "execution_count": 5,
   "metadata": {
    "ExecuteTime": {
     "end_time": "2019-09-17T17:01:03.981462Z",
     "start_time": "2019-09-17T17:01:03.921561Z"
    }
   },
   "outputs": [
    {
     "data": {
      "application/vnd.jupyter.widget-view+json": {
       "model_id": "b366ed1b22d24d1ebb47b5c7d2d9d3c1",
       "version_major": 2,
       "version_minor": 0
      },
      "text/plain": [
       "interactive(children=(Dropdown(description='text', options=('/Users/gomerudo/workspace/thesis_results/27969', …"
      ]
     },
     "metadata": {},
     "output_type": "display_data"
    }
   ],
   "source": [
    "RESULTS_DIR = \"/Users/gomerudo/workspace/thesis_results\"\n",
    "\n",
    "def rettext(text):\n",
    "    return text\n",
    "\n",
    "def search_in_file(file, pattern):\n",
    "    pattern = re.compile(pattern)\n",
    "    results = []\n",
    "    for i, line in enumerate(open(file)):\n",
    "        for match in re.finditer(pattern, line):\n",
    "            results.append(match.groups())\n",
    "    return results\n",
    "\n",
    "form_item_layout = Layout(\n",
    "    width=\"50%\"\n",
    ")\n",
    "\n",
    "w_resdirs = interactive(\n",
    "    rettext,\n",
    "#     text=sorted(glob.glob(\"{dir}/[mix-]?[0-9]*\".format(dir=RESULTS_DIR))),\n",
    "    text=sorted(glob.glob(\"{dir}/*\".format(dir=RESULTS_DIR))),\n",
    "    layout=form_item_layout\n",
    ")\n",
    "\n",
    "display(w_resdirs)"
   ]
  },
  {
   "cell_type": "markdown",
   "metadata": {},
   "source": [
    "## Results"
   ]
  },
  {
   "cell_type": "code",
   "execution_count": 6,
   "metadata": {
    "ExecuteTime": {
     "end_time": "2019-09-17T17:01:10.329249Z",
     "start_time": "2019-09-17T17:01:10.317947Z"
    }
   },
   "outputs": [],
   "source": [
    "################################################################################\n",
    "############ OBTAIN THE FILES AND DIRECTORIES TO QUERY FOR ANALYSIS ############\n",
    "################################################################################\n",
    "\n",
    "# Obtain the chosen directory\n",
    "chosen_dir = w_resdirs.result\n",
    "\n",
    "# experiments dir\n",
    "\n",
    "# This is a list of all openai dirs, sorted by name (hence, by timestamp)\n",
    "all_csvs = sorted(glob.glob(\"{dir}/*csv\".format(dir=chosen_dir)))\n",
    "\n",
    "# # A simple DB of experiments and actions_info.csv should be there\n",
    "# dbexp_file = glob.glob(\"{dir}/db_experiments.csv\".format(dir=exp_dir))[0]\n",
    "# ainfo_file = glob.glob(\"{dir}/actions_info.csv\".format(dir=exp_dir))[0]\n",
    "# config_file = glob.glob(\"{dir}/config*.ini\".format(dir=exp_dir))[0]\n",
    "# flog_file = glob.glob(\"{dir}/sl*\".format(dir=chosen_dir))[0]\n",
    "\n",
    "# # Make dataframes for the db of experiments and the actions summary\n",
    "# dbexp_df = pd.read_csv(dbexp_file)\n",
    "# ainfo_df = pd.read_csv(ainfo_file)\n",
    "\n",
    "# # Make de target directory\n",
    "# import os\n",
    "# summaries_dir = \"{exp}/summary\".format(exp=chosen_dir)\n",
    "# if not os.path.isdir(summaries_dir):\n",
    "#     os.mkdir(summaries_dir)"
   ]
  },
  {
   "cell_type": "code",
   "execution_count": 7,
   "metadata": {
    "ExecuteTime": {
     "end_time": "2019-09-17T17:01:11.573815Z",
     "start_time": "2019-09-17T17:01:11.452337Z"
    }
   },
   "outputs": [
    {
     "name": "stdout",
     "output_type": "stream",
     "text": [
      "37.85\n",
      "10.82\n"
     ]
    }
   ],
   "source": [
    "# Read the last accuracy values\n",
    "n_epoch = 1\n",
    "acc_list = []\n",
    "for csv in all_csvs:\n",
    "    current = pd.read_csv(csv)\n",
    "    row_oi = current[current['epoch'] == n_epoch]\n",
    "#     print(row_oi)\n",
    "    acc = float(row_oi['test_accuracy'])\n",
    "    acc_list.append(acc)\n",
    "#     print(acc)\n",
    "acc_np = np.around(np.array(acc_list), 2)\n",
    "print(np.around(acc_np.mean(), 2))\n",
    "print(2*np.around(acc_np.std(), 2))"
   ]
  },
  {
   "cell_type": "code",
   "execution_count": null,
   "metadata": {},
   "outputs": [],
   "source": []
  }
 ],
 "metadata": {
  "kernelspec": {
   "display_name": "Python 3",
   "language": "python",
   "name": "python3"
  },
  "language_info": {
   "codemirror_mode": {
    "name": "ipython",
    "version": 3
   },
   "file_extension": ".py",
   "mimetype": "text/x-python",
   "name": "python",
   "nbconvert_exporter": "python",
   "pygments_lexer": "ipython3",
   "version": "3.7.2"
  },
  "toc": {
   "base_numbering": 1,
   "nav_menu": {},
   "number_sections": false,
   "sideBar": false,
   "skip_h1_title": false,
   "title_cell": "Table of Contents",
   "title_sidebar": "Contents",
   "toc_cell": false,
   "toc_position": {},
   "toc_section_display": true,
   "toc_window_display": false
  }
 },
 "nbformat": 4,
 "nbformat_minor": 2
}
