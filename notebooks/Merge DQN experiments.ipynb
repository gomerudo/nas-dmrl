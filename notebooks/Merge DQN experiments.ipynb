{
 "cells": [
  {
   "cell_type": "markdown",
   "metadata": {},
   "source": [
    "# Merging datasets"
   ]
  },
  {
   "cell_type": "markdown",
   "metadata": {},
   "source": [
    "## Global imports and variables"
   ]
  },
  {
   "cell_type": "code",
   "execution_count": 1,
   "metadata": {
    "ExecuteTime": {
     "end_time": "2019-08-17T12:53:25.705415Z",
     "start_time": "2019-08-17T12:53:24.723398Z"
    }
   },
   "outputs": [],
   "source": [
    "# Import for interactive notebook (see:\n",
    "# https://ipywidgets.readthedocs.io/en/stable/examples/Using%20Interact.html)\n",
    "from __future__ import print_function\n",
    "from ipywidgets import interact, interactive, fixed, interact_manual\n",
    "import ipywidgets as widgets\n",
    "from IPython.display import display\n",
    "from ipywidgets import Layout\n",
    "\n",
    "# Import to list files in directories\n",
    "import glob\n",
    "\n",
    "# Import for regular expressions\n",
    "import re\n",
    "\n",
    "# Imports for path operations\n",
    "import os\n",
    "import os.path\n",
    "\n",
    "# For date operations\n",
    "from datetime import datetime\n",
    "\n",
    "import pandas as pd\n",
    "pd.set_option('max_colwidth', -1)\n",
    "import matplotlib.pyplot as plt\n",
    "\n",
    "import numpy as np\n",
    "import configparser\n",
    "\n",
    "# import jtplot module in notebook\n",
    "from jupyterthemes import jtplot\n",
    "\n",
    "# choose which theme to inherit plotting style from\n",
    "# onedork | grade3 | oceans16 | chesterish | monokai | solarizedl | solarizedd\n",
    "jtplot.style(theme='onedork')\n"
   ]
  },
  {
   "cell_type": "code",
   "execution_count": 2,
   "metadata": {
    "ExecuteTime": {
     "end_time": "2019-08-17T12:53:25.731285Z",
     "start_time": "2019-08-17T12:53:25.710284Z"
    }
   },
   "outputs": [],
   "source": [
    "RESULTS_DIR = \"/Users/gomerudo/workspace/thesis_results\"\n",
    "\n",
    "def rettext(text):\n",
    "    return text\n",
    "\n",
    "form_item_layout = Layout(\n",
    "    width=\"50%\"\n",
    ")"
   ]
  },
  {
   "cell_type": "markdown",
   "metadata": {},
   "source": [
    "## Selecting the desired results"
   ]
  },
  {
   "cell_type": "code",
   "execution_count": 4,
   "metadata": {
    "ExecuteTime": {
     "end_time": "2019-08-17T12:53:39.108589Z",
     "start_time": "2019-08-17T12:53:36.991197Z"
    }
   },
   "outputs": [
    {
     "data": {
      "application/vnd.jupyter.widget-view+json": {
       "model_id": "456219533fb24e43b096186686da01b9",
       "version_major": 2,
       "version_minor": 0
      },
      "text/plain": [
       "HBox(children=(VBox(children=(Checkbox(value=False, description='27969'), Checkbox(value=False, description='2…"
      ]
     },
     "metadata": {},
     "output_type": "display_data"
    }
   ],
   "source": [
    "import os.path\n",
    "results_sorted = sorted(glob.glob(\"{dir}/*\".format(dir=RESULTS_DIR)))\n",
    "dict_widgets = {}\n",
    "list_widgets = []\n",
    "for result in results_sorted:\n",
    "    hbox = widgets.Box()\n",
    "    dict_widgets[result] = widgets.Checkbox(\n",
    "        value=False,\n",
    "        description=os.path.basename(result),\n",
    "        disabled=False\n",
    "    )\n",
    "    list_widgets.append(dict_widgets[result])\n",
    "\n",
    "half = len(results_sorted)//2\n",
    "\n",
    "left_box = widgets.VBox(list_widgets[:half])\n",
    "right_box = widgets.VBox(list_widgets[half:])\n",
    "display(widgets.HBox([left_box, right_box]))\n"
   ]
  },
  {
   "cell_type": "code",
   "execution_count": 4,
   "metadata": {
    "ExecuteTime": {
     "end_time": "2019-08-16T14:50:36.229881Z",
     "start_time": "2019-08-16T14:50:36.213434Z"
    }
   },
   "outputs": [],
   "source": [
    "# Run to reset the checkboxes\n",
    "for key, widget in dict_widgets.items():\n",
    "    widget.value = False"
   ]
  },
  {
   "cell_type": "markdown",
   "metadata": {},
   "source": [
    "## Do the merge"
   ]
  },
  {
   "cell_type": "code",
   "execution_count": 6,
   "metadata": {
    "ExecuteTime": {
     "end_time": "2019-08-17T12:53:51.621353Z",
     "start_time": "2019-08-17T12:53:51.503178Z"
    }
   },
   "outputs": [],
   "source": [
    "# Get the selected cells\n",
    "selected_dirs = []\n",
    "for key, widget in dict_widgets.items():\n",
    "    if widget.value:\n",
    "        selected_dirs.append(key)\n",
    "        \n",
    "selected_dirs = sorted(selected_dirs)\n",
    "selected_dirs\n",
    "\n",
    "# 5 dataframes\n",
    "actions_dist_df = pd.DataFrame()\n",
    "episodes_stats_df = pd.DataFrame()\n",
    "progress_df = pd.DataFrame()\n",
    "steps_stats_df = pd.DataFrame()\n",
    "trails_stats_df = pd.DataFrame()\n",
    "\n",
    "# if select.value == 1:\n",
    "#     target_dir = \"{root}/summary_chained\".format(root=RESULTS_DIR)\n",
    "# if select.value == 2:\n",
    "#     target_dir = \"{root}/summary_multibranch\".format(root=RESULTS_DIR)\n",
    "# if select.value == 3:\n",
    "target_dir = \"{root}/dqn_chained\".format(root=RESULTS_DIR)\n",
    "\n",
    "\n",
    "for directory in selected_dirs:\n",
    "    current_summary_dir = \"{root}/summary\".format(root=directory)\n",
    "    current_actions_dist_csv = \"{root}/actions_dist.csv\".format(root=current_summary_dir)\n",
    "    current_episodes_stats_csv = \"{root}/episodes_stats.csv\".format(root=current_summary_dir)\n",
    "    current_steps_stats_csv = \"{root}/steps_stats.csv\".format(root=current_summary_dir)\n",
    "    current_trails_stats_csv = \"{root}/trials_stats.csv\".format(root=current_summary_dir)\n",
    "\n",
    "    tmp_actions_dist_df = pd.read_csv(current_actions_dist_csv)\n",
    "    tmp_episodes_stats_df = pd.read_csv(current_episodes_stats_csv)\n",
    "    tmp_steps_stats_df = pd.read_csv(current_steps_stats_csv)\n",
    "    tmp_trails_stats_df = pd.read_csv(current_trails_stats_csv)\n",
    "    \n",
    "    actions_dist_df = actions_dist_df.append(tmp_actions_dist_df, ignore_index=True)\n",
    "    episodes_stats_df= episodes_stats_df.append(tmp_episodes_stats_df, ignore_index=True)\n",
    "    steps_stats_df = steps_stats_df.append(tmp_steps_stats_df, ignore_index=True)\n",
    "    trails_stats_df = trails_stats_df.append(tmp_trails_stats_df, ignore_index=True)\n",
    "    \n",
    "actions_dist_df.to_csv( \n",
    "    \"{root}/actions_dist.csv\".format(root=target_dir), index=False\n",
    ")\n",
    "episodes_stats_df.to_csv(\n",
    "    \"{root}/episodes_stats.csv\".format(root=target_dir), index=False\n",
    ")\n",
    "steps_stats_df.to_csv(\n",
    "    \"{root}/steps_stats.csv\".format(root=target_dir), index=False\n",
    ")\n",
    "trails_stats_df.to_csv(\n",
    "    \"{root}/trials_stats.csv\".format(root=target_dir), index=False\n",
    ")"
   ]
  },
  {
   "cell_type": "code",
   "execution_count": null,
   "metadata": {},
   "outputs": [],
   "source": []
  }
 ],
 "metadata": {
  "kernelspec": {
   "display_name": "Python 3",
   "language": "python",
   "name": "python3"
  },
  "language_info": {
   "codemirror_mode": {
    "name": "ipython",
    "version": 3
   },
   "file_extension": ".py",
   "mimetype": "text/x-python",
   "name": "python",
   "nbconvert_exporter": "python",
   "pygments_lexer": "ipython3",
   "version": "3.7.2"
  },
  "toc": {
   "base_numbering": 1,
   "nav_menu": {},
   "number_sections": false,
   "sideBar": false,
   "skip_h1_title": false,
   "title_cell": "Table of Contents",
   "title_sidebar": "Contents",
   "toc_cell": false,
   "toc_position": {},
   "toc_section_display": true,
   "toc_window_display": false
  }
 },
 "nbformat": 4,
 "nbformat_minor": 2
}
