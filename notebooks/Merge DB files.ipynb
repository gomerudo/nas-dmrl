{
 "cells": [
  {
   "cell_type": "markdown",
   "metadata": {},
   "source": [
    "# Merging datasets"
   ]
  },
  {
   "cell_type": "markdown",
   "metadata": {},
   "source": [
    "## Global imports and variables"
   ]
  },
  {
   "cell_type": "code",
   "execution_count": 9,
   "metadata": {
    "ExecuteTime": {
     "end_time": "2019-08-26T16:59:33.066451Z",
     "start_time": "2019-08-26T16:59:32.951343Z"
    }
   },
   "outputs": [],
   "source": [
    "# Import for interactive notebook (see:\n",
    "# https://ipywidgets.readthedocs.io/en/stable/examples/Using%20Interact.html)\n",
    "from __future__ import print_function\n",
    "from ipywidgets import interact, interactive, fixed, interact_manual\n",
    "import ipywidgets as widgets\n",
    "from IPython.display import display\n",
    "from ipywidgets import Layout\n",
    "\n",
    "# Import to list files in directories\n",
    "import glob\n",
    "\n",
    "# Import for regular expressions\n",
    "import re\n",
    "\n",
    "# Imports for path operations\n",
    "import os\n",
    "import os.path\n",
    "\n",
    "# For date operations\n",
    "from datetime import datetime\n",
    "\n",
    "import pandas as pd\n",
    "pd.set_option('max_colwidth', -1)\n",
    "import matplotlib.pyplot as plt\n",
    "\n",
    "import numpy as np\n",
    "import configparser\n",
    "\n",
    "# import jtplot module in notebook\n",
    "from jupyterthemes import jtplot\n",
    "\n",
    "# choose which theme to inherit plotting style from\n",
    "# onedork | grade3 | oceans16 | chesterish | monokai | solarizedl | solarizedd\n",
    "jtplot.style(theme='onedork')\n"
   ]
  },
  {
   "cell_type": "code",
   "execution_count": 10,
   "metadata": {
    "ExecuteTime": {
     "end_time": "2019-08-26T16:59:33.100762Z",
     "start_time": "2019-08-26T16:59:33.077500Z"
    }
   },
   "outputs": [],
   "source": [
    "RESULTS_DIR = \"/Users/gomerudo/workspace/thesis_results\"\n",
    "\n",
    "def rettext(text):\n",
    "    return text\n",
    "\n",
    "form_item_layout = Layout(\n",
    "    width=\"50%\"\n",
    ")"
   ]
  },
  {
   "cell_type": "markdown",
   "metadata": {},
   "source": [
    "## Selecting the desired results"
   ]
  },
  {
   "cell_type": "code",
   "execution_count": 11,
   "metadata": {
    "ExecuteTime": {
     "end_time": "2019-08-26T16:59:36.283279Z",
     "start_time": "2019-08-26T16:59:33.105274Z"
    },
    "scrolled": false
   },
   "outputs": [
    {
     "data": {
      "application/vnd.jupyter.widget-view+json": {
       "model_id": "e529da701cbf477d8d1c875eaf530b2c",
       "version_major": 2,
       "version_minor": 0
      },
      "text/plain": [
       "HBox(children=(VBox(children=(Checkbox(value=False, description='27969'), Checkbox(value=False, description='2…"
      ]
     },
     "metadata": {},
     "output_type": "display_data"
    },
    {
     "data": {
      "application/vnd.jupyter.widget-view+json": {
       "model_id": "aeffb836ef59478084da492168aac3b7",
       "version_major": 2,
       "version_minor": 0
      },
      "text/plain": [
       "HBox(children=(Dropdown(description='Type of results:', options=(('Chained', 1), ('Multi-branch', 2)), value=1…"
      ]
     },
     "metadata": {},
     "output_type": "display_data"
    }
   ],
   "source": [
    "import os.path\n",
    "results_sorted = sorted(glob.glob(\"{dir}/*\".format(dir=RESULTS_DIR)))\n",
    "dict_widgets = {}\n",
    "list_widgets = []\n",
    "for result in results_sorted:\n",
    "    hbox = widgets.Box()\n",
    "    dict_widgets[result] = widgets.Checkbox(\n",
    "        value=False,\n",
    "        description=os.path.basename(result),\n",
    "        disabled=False\n",
    "    )\n",
    "    list_widgets.append(dict_widgets[result])\n",
    "\n",
    "half = len(results_sorted)//2\n",
    "\n",
    "left_box = widgets.VBox(list_widgets[:half])\n",
    "right_box = widgets.VBox(list_widgets[half:])\n",
    "display(widgets.HBox([left_box, right_box]))\n",
    "\n",
    "select = widgets.Dropdown(\n",
    "    options=[('Chained', 1), ('Multi-branch', 2)],\n",
    "    value=1,\n",
    "    description='Type of results:',\n",
    ")\n",
    "display(widgets.HBox([select]))"
   ]
  },
  {
   "cell_type": "code",
   "execution_count": 11,
   "metadata": {
    "ExecuteTime": {
     "end_time": "2019-07-31T13:01:08.757142Z",
     "start_time": "2019-07-31T13:01:08.752120Z"
    }
   },
   "outputs": [],
   "source": [
    "# Run to reset the checkboxes\n",
    "for key, widget in dict_widgets.items():\n",
    "    widget.value = False"
   ]
  },
  {
   "cell_type": "markdown",
   "metadata": {},
   "source": [
    "## Do the merge"
   ]
  },
  {
   "cell_type": "code",
   "execution_count": 12,
   "metadata": {
    "ExecuteTime": {
     "end_time": "2019-08-26T17:00:49.583182Z",
     "start_time": "2019-08-26T17:00:49.141192Z"
    }
   },
   "outputs": [
    {
     "data": {
      "text/plain": [
       "(59965, 9)"
      ]
     },
     "execution_count": 12,
     "metadata": {},
     "output_type": "execute_result"
    }
   ],
   "source": [
    "# Get the selected cells\n",
    "selected_dirs = []\n",
    "for key, widget in dict_widgets.items():\n",
    "    if widget.value:\n",
    "        selected_dirs.append(key)\n",
    "        \n",
    "selected_dirs = sorted(selected_dirs)\n",
    "selected_dirs\n",
    "\n",
    "db_experiments_final = pd.DataFrame()\n",
    "\n",
    "for directory in selected_dirs:\n",
    "    db_src = sorted(\n",
    "        glob.glob(\n",
    "            \"{root}/experiment*/db_experiments.csv\".format(root=directory)\n",
    "        )\n",
    "    )[0]\n",
    "    current_db = pd.read_csv(db_src)\n",
    "    db_experiments_final = db_experiments_final.append(current_db, ignore_index=True)\n",
    "\n",
    "db_experiments_final.shape"
   ]
  },
  {
   "cell_type": "code",
   "execution_count": 13,
   "metadata": {
    "ExecuteTime": {
     "end_time": "2019-08-26T17:00:52.476717Z",
     "start_time": "2019-08-26T17:00:52.412813Z"
    }
   },
   "outputs": [
    {
     "data": {
      "text/plain": [
       "(33312, 9)"
      ]
     },
     "execution_count": 13,
     "metadata": {},
     "output_type": "execute_result"
    }
   ],
   "source": [
    "db_experiments_final = db_experiments_final.drop_duplicates(subset='dataset-nethash', keep='first')\n",
    "db_experiments_final.shape"
   ]
  },
  {
   "cell_type": "code",
   "execution_count": 14,
   "metadata": {
    "ExecuteTime": {
     "end_time": "2019-08-26T17:01:02.351562Z",
     "start_time": "2019-08-26T17:01:01.863787Z"
    }
   },
   "outputs": [],
   "source": [
    "db_experiments_final.to_csv( \"{root}/db_experiments.csv\".format(root=RESULTS_DIR), index=False)"
   ]
  },
  {
   "cell_type": "code",
   "execution_count": null,
   "metadata": {},
   "outputs": [],
   "source": []
  }
 ],
 "metadata": {
  "kernelspec": {
   "display_name": "Python 3",
   "language": "python",
   "name": "python3"
  },
  "language_info": {
   "codemirror_mode": {
    "name": "ipython",
    "version": 3
   },
   "file_extension": ".py",
   "mimetype": "text/x-python",
   "name": "python",
   "nbconvert_exporter": "python",
   "pygments_lexer": "ipython3",
   "version": "3.7.2"
  },
  "toc": {
   "base_numbering": 1,
   "nav_menu": {},
   "number_sections": false,
   "sideBar": false,
   "skip_h1_title": false,
   "title_cell": "Table of Contents",
   "title_sidebar": "Contents",
   "toc_cell": false,
   "toc_position": {},
   "toc_section_display": true,
   "toc_window_display": false
  }
 },
 "nbformat": 4,
 "nbformat_minor": 2
}
